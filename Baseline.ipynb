{
 "cells": [
  {
   "cell_type": "markdown",
   "metadata": {},
   "source": [
    "## Baseline\n",
    "\n",
    "Start with simple data pipeline and make a crappy classifier. This will just the simplest thing that works.\n",
    "\n",
    "Eliminate all unlabeled profiles, using 80/20 train/test split without consideration for\n",
    "singleton labels or good stratification of samples, using just composition words as features:\n",
    "\n",
    "Naive Bayes (default config) 54%/45% train/test\n",
    "\n",
    "Linear SVM (default config) 96%/51% "
   ]
  },
  {
   "cell_type": "code",
   "execution_count": 1,
   "metadata": {
    "collapsed": false
   },
   "outputs": [],
   "source": [
    "import numpy as np\n",
    "import profile_classification as pc\n",
    "raw=pc.load_raw_profile_data()\n",
    "labeled=pc.get_labeled_profiles(raw)\n",
    "data=pc.make_train_test_data(labeled)\n",
    "#print [(k,v[:10]) for k,v in data.items()]"
   ]
  },
  {
   "cell_type": "code",
   "execution_count": 2,
   "metadata": {
    "collapsed": false
   },
   "outputs": [
    {
     "name": "stdout",
     "output_type": "stream",
     "text": [
      "0.449204406365\n",
      "0.514075887393\n",
      "0.481028151775\n"
     ]
    }
   ],
   "source": [
    "from sklearn.feature_extraction.text import CountVectorizer\n",
    "from sklearn.naive_bayes import MultinomialNB\n",
    "from sklearn.svm import LinearSVC\n",
    "from sklearn.tree import DecisionTreeClassifier\n",
    "from sklearn.decomposition import TruncatedSVD\n",
    "from sklearn.metrics import confusion_matrix\n",
    "from sklearn.metrics import classification_report\n",
    "\n",
    "\n",
    "X_train,y_train=data['X_train'],data['y_train']\n",
    "X_test,y_test=data['X_test'],data['y_test']\n",
    "\n",
    "vect=CountVectorizer(min_df=1,ngram_range=(1,1))\n",
    "svd=TruncatedSVD()\n",
    "X_v_train=vect.fit_transform([str(d) for d in X_train])\n",
    "X_v_test=vect.transform([str(d) for d in X_test])\n",
    "\n",
    "mNB=MultinomialNB()\n",
    "svc=LinearSVC()\n",
    "dt=DecisionTreeClassifier(min_samples_leaf=1)\n",
    "\n",
    "for clf in (mNB,svc,dt,): \n",
    "    clf.fit(X_v_train,y_train)\n",
    "    y_pred=clf.predict(X_v_test)\n",
    "    print np.sum(y_pred==y_test)/float(len(y_test))\n",
    "    #print classification_report(y_test,y_pred)\n",
    "    "
   ]
  },
  {
   "cell_type": "code",
   "execution_count": 100,
   "metadata": {
    "collapsed": false
   },
   "outputs": [
    {
     "data": {
      "text/plain": [
       "CountVectorizer(analyzer=u'word', binary=False, decode_error=u'strict',\n",
       "        dtype=<type 'numpy.int64'>, encoding=u'utf-8', input=u'content',\n",
       "        lowercase=True, max_df=1.0, max_features=None, min_df=1,\n",
       "        ngram_range=(1, 1), preprocessor=None, stop_words=None,\n",
       "        strip_accents=None, token_pattern=u'(?u)\\\\b\\\\w\\\\w+\\\\b',\n",
       "        tokenizer=None, vocabulary=None)"
      ]
     },
     "execution_count": 100,
     "metadata": {},
     "output_type": "execute_result"
    }
   ],
   "source": [
    "r_w=raw.dropna(subset=['Composition'])\n",
    "r_w=r_w['Composition']\n",
    "vect.fit(r_w)\n"
   ]
  },
  {
   "cell_type": "code",
   "execution_count": 101,
   "metadata": {
    "collapsed": false
   },
   "outputs": [
    {
     "name": "stdout",
     "output_type": "stream",
     "text": [
      "9258\n"
     ]
    }
   ],
   "source": [
    "print len(vect.get_feature_names())"
   ]
  },
  {
   "cell_type": "code",
   "execution_count": null,
   "metadata": {
    "collapsed": true
   },
   "outputs": [],
   "source": []
  }
 ],
 "metadata": {
  "kernelspec": {
   "display_name": "Python 2",
   "language": "python",
   "name": "python2"
  },
  "language_info": {
   "codemirror_mode": {
    "name": "ipython",
    "version": 2
   },
   "file_extension": ".py",
   "mimetype": "text/x-python",
   "name": "python",
   "nbconvert_exporter": "python",
   "pygments_lexer": "ipython2",
   "version": "2.7.13"
  }
 },
 "nbformat": 4,
 "nbformat_minor": 2
}
