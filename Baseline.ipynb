{
 "cells": [
  {
   "cell_type": "markdown",
   "metadata": {},
   "source": [
    "## Baseline\n",
    "\n",
    "Start with simple data pipeline and make a crappy classifier. This will just the simplest thing that works.\n",
    "\n",
    "Eliminate all unlabeled profiles, using 80/20 train/test split without consideration for\n",
    "singleton labels or good stratification of samples, using just composition words as features:\n",
    "\n",
    "Naive Bayes (default config) 54%/45% train/test\n",
    "\n",
    "Linear SVM (default config) 96%/51% "
   ]
  },
  {
   "cell_type": "code",
   "execution_count": 1,
   "metadata": {
    "collapsed": false
   },
   "outputs": [],
   "source": [
    "%load_ext autoreload\n",
    "%autoreload 2"
   ]
  },
  {
   "cell_type": "code",
   "execution_count": 31,
   "metadata": {
    "collapsed": false
   },
   "outputs": [],
   "source": [
    "import numpy as np\n",
    "import profile_classification as pc\n",
    "raw=pc.load_raw_profile_data()\n",
    "labeled=pc.get_labeled_profiles(raw)\n",
    "cut=pc.cut_low_frequencies(labeled,10)\n",
    "data=pc.make_train_test_data(cut)\n",
    "#print [(k,v[:10]) for k,v in data.items()]"
   ]
  },
  {
   "cell_type": "code",
   "execution_count": 32,
   "metadata": {
    "collapsed": false
   },
   "outputs": [
    {
     "name": "stdout",
     "output_type": "stream",
     "text": [
      "There are 3088 training examples\n",
      "<class 'sklearn.naive_bayes.MultinomialNB'> 0.493523316062\n",
      "<class 'sklearn.svm.classes.LinearSVC'> 0.551813471503\n",
      "<class 'sklearn.tree.tree.DecisionTreeClassifier'> 0.507772020725\n",
      "<class 'sklearn.ensemble.forest.RandomForestClassifier'> 0.591968911917\n",
      "<class 'sklearn.neighbors.classification.KNeighborsClassifier'> 0.520725388601\n"
     ]
    }
   ],
   "source": [
    "from mcc_transformers import ItemSelector,EPAText,Rcra\n",
    "from sklearn.feature_extraction.text import CountVectorizer\n",
    "from sklearn.naive_bayes import MultinomialNB\n",
    "from sklearn.svm import LinearSVC\n",
    "from sklearn.tree import DecisionTreeClassifier\n",
    "from sklearn.decomposition import TruncatedSVD\n",
    "from sklearn.metrics import confusion_matrix\n",
    "from sklearn.metrics import classification_report\n",
    "from sklearn.pipeline import Pipeline\n",
    "from sklearn.pipeline import FeatureUnion\n",
    "from sklearn.ensemble import RandomForestClassifier\n",
    "from sklearn.neighbors import KNeighborsClassifier\n",
    "\n",
    "\n",
    "X_train,y_train=data['X_train'],data['y_train']\n",
    "X_test,y_test=data['X_test'],data['y_test']\n",
    "\n",
    "print 'There are %d training examples'%len(X_train)\n",
    "\n",
    "pl=Pipeline([('union',\n",
    "             FeatureUnion(transformer_list=[('composition',\n",
    "                                           Pipeline([('get_comp',ItemSelector('Composition')),\n",
    "                                                    ('vectorize',CountVectorizer(min_df=1,ngram_range=(1,1)))])),\n",
    "                                            ('rcra',\n",
    "                                           Pipeline([('get_rcra',ItemSelector('RCRA')),\n",
    "                                                     ('vectorize', Rcra())])),\n",
    "                                            ('epaCodes',\n",
    "                                           Pipeline([('get_codes',ItemSelector('EPA Codes')),\n",
    "                                                    ('vectorize',EPAText())]))]))])\n",
    "\n",
    "\n",
    "\n",
    "#vect=CountVectorizer(min_df=1,ngram_range=(1,1))\n",
    "#svd=TruncatedSVD()\n",
    "X_v_train=pl.fit_transform(X_train)\n",
    "#X_v_train=pl.transform(X_train)\n",
    "X_v_test=pl.transform(X_test)\n",
    "\n",
    "mNB=MultinomialNB()\n",
    "svc=LinearSVC()\n",
    "dt=DecisionTreeClassifier(min_samples_leaf=1)\n",
    "rf=RandomForestClassifier(n_estimators=100)\n",
    "knn=KNeighborsClassifier(weights='distance',n_neighbors=3)\n",
    "for clf in (mNB,svc,dt,rf,knn): \n",
    "    clf.fit(X_v_train,y_train)\n",
    "    y_pred=clf.predict(X_v_test)\n",
    "    print type(clf),np.sum(y_pred==y_test)/float(len(y_test))\n",
    "    #print classification_report(y_test,y_pred)\n",
    "    "
   ]
  },
  {
   "cell_type": "code",
   "execution_count": 5,
   "metadata": {
    "collapsed": false
   },
   "outputs": [
    {
     "data": {
      "text/plain": [
       "CountVectorizer(analyzer=u'word', binary=False, decode_error=u'strict',\n",
       "        dtype=<type 'numpy.int64'>, encoding=u'utf-8', input=u'content',\n",
       "        lowercase=True, max_df=1.0, max_features=None, min_df=1,\n",
       "        ngram_range=(1, 1), preprocessor=None, stop_words=None,\n",
       "        strip_accents=None, token_pattern=u'(?u)\\\\b\\\\w\\\\w+\\\\b',\n",
       "        tokenizer=None, vocabulary=None)"
      ]
     },
     "execution_count": 5,
     "metadata": {},
     "output_type": "execute_result"
    }
   ],
   "source": [
    "vect=CountVectorizer(min_df=1,ngram_range=(1,1))\n",
    "r_w=raw.dropna(subset=['Composition'])\n",
    "r_w=r_w['Composition']\n",
    "vect.fit(r_w)\n"
   ]
  },
  {
   "cell_type": "code",
   "execution_count": 8,
   "metadata": {
    "collapsed": false
   },
   "outputs": [
    {
     "name": "stdout",
     "output_type": "stream",
     "text": [
      "9258\n",
      "[u'violent', u'violet', u'virgin', u'virus', u'viscor', u'viscosity', u'visqueen', u'vitamin', u'vitamins', u'vitavax', u'vitreous', u'vitrious', u'vm', u'voc', u'vocs', u'vodka', u'volatile', u'volume', u'vp', u'vr', u'vulcanized', u'vulcanizing', u'vydate', u'wa', u'wafarin', u'wafer', u'wall', u'walled', u'wararin', u'ward', u'warf', u'warfar', u'warfarin', u'warfrin', u'wart', u'was', u'wash', u'washed', u'washer', u'washers', u'washout', u'waste', u'wastes', u'wat', u'watches', u'wate', u'water', u'waterbased', u'watermark', u'waterproofing', u'wax', u'waxes', u'waxy', u'wc', u'wd', u'weak', u'weapons', u'weather', u'weed', u'weeds', u'weevil', u'weigh', u'weight', u'weld', u'welding', u'well', u'were', u'west', u'wet', u'wetted', u'wetting', u'wh15sl3', u'what', u'wheat', u'when', u'which', u'while', u'whipped', u'whiskey', u'white', u'wi', u'wick', u'wide', u'will', u'windshield', u'wine', u'wipe', u'wipers', u'wipes', u'wire', u'wires', u'wiring', u'witco', u'with', u'with1', u'within', u'without', u'witness', u'wollastonite', u'wolman', u'wood', u'wooden', u'wool', u'work', u'working', u'worms', u'wound', u'woven', u'wp', u'wps', u'wrangler', u'wrap', u'wrappers', u'wright', u'ws', u'wwtp', u'x1', u'x100', u'x12', u'x14', u'x18', u'x2', u'x20', u'x3', u'x4', u'x5', u'x6', u'x8', u'xane', u'xanthan', u'xanthylium', u'xiameter', u'xl', u'xlt', u'xp', u'xr', u'xtra', u'xy', u'xyl', u'xyle', u'xylen', u'xylene', u'xylenediamine', u'xylenes', u'xylenol', u'xylenols', u'xylitol', u'xylol', u'xylyiminomethyl', u'xylyl', u'xylylcarbamoylmethyl', u'xylylenediamine', u'xylylethane', u'xymethyl', u'xypropionate', u'yanate', u'yard', u'yeast', u'yellow', u'yellowish', u'yethyl', u'yl', u'ylene', u'ylenediamine', u'ylenedimethanol', u'ylethanesulphonic', u'ylethyl', u'ylethylamine', u'ylic', u'ylidene', u'ylmethyl', u'ylsiloxy', u'yn', u'yne', u'zantac', u'zelec', u'zene', u'zeneaceto', u'zenemethanaminium', u'zeolite', u'zeolites', u'zep', u'zepel', u'zeta', u'zetesol', u'zide', u'zinc', u'zincover', u'zineb', u'zinon', u'ziplock', u'ziram', u'zircionium', u'zircon', u'zirconium', u'zn', u'zol', u'zole', u'zotos', u'zoxazole']\n"
     ]
    }
   ],
   "source": [
    "print len(vect.get_feature_names())\n",
    "print vect.get_feature_names()[-200:]"
   ]
  },
  {
   "cell_type": "code",
   "execution_count": 6,
   "metadata": {
    "collapsed": false
   },
   "outputs": [
    {
     "name": "stdout",
     "output_type": "stream",
     "text": [
      "[u'd001', u'd002', u'd003', u'd004', u'd005', u'd006', u'd007', u'd008', u'd009', u'd010', u'd011', u'd012', u'd013', u'd014', u'd015', u'd016', u'd017', u'd018', u'd019', u'd020', u'd021', u'd022', u'd023', u'd024', u'd025', u'd026', u'd027', u'd028', u'd029', u'd030', u'd031', u'd032', u'd033', u'd034', u'd035', u'd036', u'd037', u'd038', u'd039', u'd040', u'd041', u'd042', u'd043', u'f001', u'f002', u'f003', u'f004', u'f005', u'f006', u'f007', u'f008', u'f009', u'f010', u'f011', u'f012', u'f019', u'f024', u'f025', u'f032', u'f034', u'f035', u'f037', u'f038', u'f039', u'k001', u'k002', u'k003', u'k004', u'k005', u'k006', u'k007', u'k008', u'k009', u'k010', u'k011', u'k013', u'k014', u'k015', u'k016', u'k017', u'k018', u'k019', u'k020', u'k021', u'k022', u'k027', u'k028', u'k029', u'k030', u'k031', u'k033', u'k034', u'k035', u'k048', u'k049', u'k050', u'k051', u'k052', u'k061', u'k083', u'k086', u'k087', u'k094', u'k095', u'k096', u'k103', u'k104', u'k141', u'k142', u'k143', u'k144', u'k149', u'k156', u'k161', u'k169', u'k170', u'k171', u'k181', u'none', u'p001', u'p002', u'p008', u'p010', u'p011', u'p012', u'p014', u'p022', u'p028', u'p029', u'p030', u'p042', u'p043', u'p044', u'p045', u'p046', u'p051', u'p066', u'p075', u'p081', u'p087', u'p088', u'p098', u'p105', u'p106', u'p108', u'p121', u'p127', u'p188', u'p194', u'p204', u'p205', u'u001', u'u002', u'u003', u'u004', u'u005', u'u006', u'u007', u'u008', u'u009', u'u010', u'u012', u'u015', u'u017', u'u019', u'u020', u'u022', u'u025', u'u026', u'u028', u'u029', u'u031', u'u032', u'u034', u'u035', u'u036', u'u037', u'u039', u'u041', u'u043', u'u044', u'u045', u'u050', u'u051', u'u052', u'u055', u'u056', u'u057', u'u058', u'u059', u'u060', u'u061', u'u068', u'u069', u'u070', u'u071', u'u072', u'u075', u'u076', u'u077', u'u078', u'u079', u'u080', u'u082', u'u083', u'u088', u'u089', u'u092', u'u101', u'u102', u'u107', u'u108', u'u110', u'u112', u'u113', u'u114', u'u115', u'u116', u'u117', u'u118', u'u121', u'u122', u'u123', u'u125', u'u129', u'u131', u'u132', u'u133', u'u140', u'u144', u'u147', u'u150', u'u151', u'u152', u'u154', u'u157', u'u158', u'u159', u'u160', u'u161', u'u162', u'u164', u'u165', u'u166', u'u169', u'u182', u'u185', u'u187', u'u188', u'u190', u'u191', u'u194', u'u196', u'u200', u'u201', u'u202', u'u203', u'u204', u'u205', u'u206', u'u209', u'u210', u'u211', u'u213', u'u218', u'u219', u'u220', u'u221', u'u222', u'u223', u'u226', u'u227', u'u228', u'u236', u'u237', u'u239', u'u240', u'u244', u'u247', u'u248', u'u249', u'u271', u'u278', u'u279', u'u359', u'u372', u'u404', u'u409', u'u411']\n"
     ]
    }
   ],
   "source": [
    "print pl.named_steps['union'].transformer_list[2][1].named_steps['vectorize'].get_feature_names()"
   ]
  },
  {
   "cell_type": "code",
   "execution_count": null,
   "metadata": {
    "collapsed": true
   },
   "outputs": [],
   "source": []
  }
 ],
 "metadata": {
  "kernelspec": {
   "display_name": "Python 2",
   "language": "python",
   "name": "python2"
  },
  "language_info": {
   "codemirror_mode": {
    "name": "ipython",
    "version": 2
   },
   "file_extension": ".py",
   "mimetype": "text/x-python",
   "name": "python",
   "nbconvert_exporter": "python",
   "pygments_lexer": "ipython2",
   "version": "2.7.13"
  }
 },
 "nbformat": 4,
 "nbformat_minor": 2
}
