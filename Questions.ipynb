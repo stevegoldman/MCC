{
 "cells": [
  {
   "cell_type": "markdown",
   "metadata": {},
   "source": [
    "## Challenges, Questions, and Things to Try - MCC Classification\n",
    "\n",
    "### Challenges\n",
    "\n",
    "* There are very few profiles labeled with MCCs (about 4000)\n",
    "* There are over 100 categories, very unbalanced.  Some categories have 400 examples, some have only 1 example\n",
    "* I'm told that some of the labels are wrong or outdated\n",
    "* I'm not sure how to represent the output data in order to help evaluate performance, or to compare expected vs. actual results.\n",
    "* I haven't learned the Tensorflow eco-system yet.\n",
    "\n",
    "\n",
    "### Questions\n",
    "\n",
    "* What is the immediate value of this effort to the organization, notwithstanding the fact that I find it interesting?\n",
    "* What is human level performance? I know it's not 100% accuracy.\n",
    "* What accuracy is required to make this worthwhile?\n",
    "* How do I get better labels, confirmation of my existing labels?\n",
    "* Is my profile universe the best it can be?  My universe is suffix-base, non-labpack profiles that expire after Jan 1, 2016?  There are about 13,500 of these.\n",
    "* Are there ways to tokenize chemicals better?\n",
    "* What chemical name/data resources do I have available to me - EPA RGN list, lab pack packing list database, SWRC and TRI patterns, AS/400 specific material verbiage codes, Wikipedia chemical lists, etc.?\n",
    "* Could I do  pre-learning, transfer learning on an RNN with chemical names and use that model to help classify?\n",
    "\n",
    "### Things to Try\n",
    "\n",
    "* Do a baseline classification with just those profiles that have more than n examples.  \n",
    "* Build stratified train/test samples.\n",
    "* Spend some time with clustering alogorithm or develop a similarity approach for profiles.  Try to find similar profiles with different MCCs.\n",
    "* I need to map profile number to the samples for evaluation purposes.\n",
    "\n"
   ]
  },
  {
   "cell_type": "code",
   "execution_count": null,
   "metadata": {
    "collapsed": true
   },
   "outputs": [],
   "source": []
  }
 ],
 "metadata": {
  "kernelspec": {
   "display_name": "Python 2",
   "language": "python",
   "name": "python2"
  },
  "language_info": {
   "codemirror_mode": {
    "name": "ipython",
    "version": 2
   },
   "file_extension": ".py",
   "mimetype": "text/x-python",
   "name": "python",
   "nbconvert_exporter": "python",
   "pygments_lexer": "ipython2",
   "version": "2.7.13"
  }
 },
 "nbformat": 4,
 "nbformat_minor": 2
}
